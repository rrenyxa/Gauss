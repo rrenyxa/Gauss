{
  "nbformat": 4,
  "nbformat_minor": 0,
  "metadata": {
    "colab": {
      "name": "Gauss mehod.ipynb",
      "provenance": [],
      "collapsed_sections": [],
      "authorship_tag": "ABX9TyPCQ0oKciTXIjAjBPH3gNG4",
      "include_colab_link": true
    },
    "kernelspec": {
      "name": "python3",
      "display_name": "Python 3"
    },
    "language_info": {
      "name": "python"
    }
  },
  "cells": [
    {
      "cell_type": "markdown",
      "metadata": {
        "id": "view-in-github",
        "colab_type": "text"
      },
      "source": [
        "<a href=\"https://colab.research.google.com/github/rrenyxa/Gauss/blob/main/Gauss_mehod.ipynb\" target=\"_parent\"><img src=\"https://colab.research.google.com/assets/colab-badge.svg\" alt=\"Open In Colab\"/></a>"
      ]
    },
    {
      "cell_type": "code",
      "metadata": {
        "colab": {
          "base_uri": "https://localhost:8080/"
        },
        "id": "B3C37xVJ-t95",
        "outputId": "aa67ebfd-663a-4e46-efec-1967524ff0ec"
      },
      "source": [
        "import numpy as np\n",
        "import random\n",
        "dim = random.randint(2,5)\n",
        "print(dim)\n",
        "a = np.random.randint(-100,100,size=(dim,dim + 1)).astype('float32')\n",
        "print(a)\n",
        "for column in range(dim):\n",
        "  a[column,:] = a[column,:]/a[column,column]\n",
        "print(a)"
      ],
      "execution_count": null,
      "outputs": [
        {
          "output_type": "stream",
          "text": [
            "3\n",
            "[[ 49. -70.  65.  57.]\n",
            " [ -3. -47.  98. -51.]\n",
            " [-86. -73. -28. -88.]]\n",
            "[[ 1.         -1.4285715   1.3265306   1.1632653 ]\n",
            " [ 0.06382979  1.         -2.0851064   1.0851064 ]\n",
            " [ 3.0714285   2.607143    1.          3.142857  ]]\n"
          ],
          "name": "stdout"
        }
      ]
    },
    {
      "cell_type": "code",
      "metadata": {
        "id": "CaXd4BJUTdbs"
      },
      "source": [
        "def move_zero(a, row, column):\n",
        "    if (a[row,column] == 0):\n",
        "      a[:,[row,]]\n",
        "\n",
        "\n",
        "  return a"
      ],
      "execution_count": null,
      "outputs": []
    },
    {
      "cell_type": "code",
      "metadata": {
        "id": "oCm983HjP9_o"
      },
      "source": [
        "def triangle(a):\n",
        "  for column in range(dim):\n",
        "    a[column,:] = a[column,:]/a[column,column]\n",
        "    for row in range(column + 1, dim):\n",
        "      if(~(a[row,column] == 0)):\n",
        "        a[row,:] = a[row,:] - a[row,:]*a[column,:]\n",
        "  return(a)"
      ],
      "execution_count": null,
      "outputs": []
    },
    {
      "cell_type": "code",
      "metadata": {
        "colab": {
          "base_uri": "https://localhost:8080/"
        },
        "id": "Ubn5PMxzPzRq",
        "outputId": "76a5187e-c683-4a66-a484-5c543d6c59b5"
      },
      "source": [
        "triangle(a)\n",
        "print(a)\n"
      ],
      "execution_count": null,
      "outputs": [
        {
          "output_type": "stream",
          "text": [
            "[[ 1.         -1.4285715   1.3265306   1.1632653 ]\n",
            " [ 0.          1.          0.2803504  -0.07294834]\n",
            " [-0.         -0.          1.          2.3428936 ]]\n"
          ],
          "name": "stdout"
        }
      ]
    },
    {
      "cell_type": "code",
      "metadata": {
        "id": "SZt-H8ILRc-G"
      },
      "source": [
        "def back_triangle(a):\n",
        "  for column in reversed(range(1,dim)):\n",
        "    a[0:column,-1] = a[0:column,-1] - a[column-1,column]*a[column,-1]\n",
        "    a[0:column,column] = 0\n",
        "  return a\n",
        "    "
      ],
      "execution_count": null,
      "outputs": []
    },
    {
      "cell_type": "code",
      "metadata": {
        "colab": {
          "base_uri": "https://localhost:8080/"
        },
        "id": "xX73YrBqvAJ-",
        "outputId": "0dd8aab1-34ed-4508-d6cc-bf131f7d421e"
      },
      "source": [
        "print(back_triangle(a))"
      ],
      "execution_count": null,
      "outputs": [
        {
          "output_type": "stream",
          "text": [
            "[[ 1.         0.         0.        -0.5361079]\n",
            " [ 0.         1.         0.        -0.7297795]\n",
            " [-0.        -0.         1.         2.3428936]]\n"
          ],
          "name": "stdout"
        }
      ]
    },
    {
      "cell_type": "code",
      "metadata": {
        "id": "V_azR9C1vGaH",
        "colab": {
          "base_uri": "https://localhost:8080/"
        },
        "outputId": "4b09d864-a3d1-4b63-9836-b01fa5d45b27"
      },
      "source": [
        "arr = np.array([1,2,3,4,5])\n",
        "print(arr[-1])"
      ],
      "execution_count": null,
      "outputs": [
        {
          "output_type": "stream",
          "text": [
            "5\n"
          ],
          "name": "stdout"
        }
      ]
    },
    {
      "cell_type": "code",
      "metadata": {
        "id": "KFXwkpZgj1Jl"
      },
      "source": [
        ""
      ],
      "execution_count": null,
      "outputs": []
    }
  ]
}